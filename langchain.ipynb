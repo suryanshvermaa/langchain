{
 "cells": [
  {
   "cell_type": "markdown",
   "id": "e3a8c030-d9d7-41cf-8ee0-f7a034cc607d",
   "metadata": {
    "jp-MarkdownHeadingCollapsed": true
   },
   "source": [
    "# DAY-1: langchain"
   ]
  },
  {
   "cell_type": "code",
   "execution_count": 5,
   "id": "a87351d4-ca26-45be-bf57-a13279b3fe74",
   "metadata": {},
   "outputs": [],
   "source": [
    "from langchain_google_genai import ChatGoogleGenerativeAI"
   ]
  },
  {
   "cell_type": "code",
   "execution_count": 6,
   "id": "b997ad4b-4310-4dfd-94ef-b62238fc1741",
   "metadata": {},
   "outputs": [],
   "source": [
    "import os"
   ]
  },
  {
   "cell_type": "code",
   "execution_count": 95,
   "id": "1a2a7cdb-db33-40a5-bd88-9ed61e0bf34e",
   "metadata": {},
   "outputs": [],
   "source": [
    "llm=ChatGoogleGenerativeAI(\n",
    "    model=\"gemini-2.0-flash-001\",\n",
    "    temperature=1,\n",
    "    max_tokens=None,\n",
    "    timeout=None,\n",
    "    max_retries=2,\n",
    "    google_api_key=os.getenv(\"GEMINI_API_KEY\")\n",
    ")"
   ]
  },
  {
   "cell_type": "code",
   "execution_count": 96,
   "id": "d6de002b-afbf-495f-8740-786d707a2d33",
   "metadata": {
    "scrolled": true
   },
   "outputs": [
    {
     "name": "stdout",
     "output_type": "stream",
     "text": [
      "Determining the exact number of countries in the world is more complex than it might seem, as there's no single, universally agreed-upon definition of \"country.\" However, the most common and widely accepted answer is **195**.\n",
      "\n",
      "This number is generally arrived at by:\n",
      "\n",
      "*   **193 Member States of the United Nations:** These are universally recognized as sovereign states.\n",
      "*   **2 Observer States at the United Nations:**\n",
      "    *   **Vatican City (Holy See):** A sovereign entity with the Pope as its head.\n",
      "    *   **Palestine:** Its statehood is recognized by a majority of UN member states, though it's still under occupation.\n",
      "\n",
      "Therefore, 193 (UN members) + 2 (observer states) = 195.\n",
      "\n",
      "It's important to note:\n",
      "\n",
      "*   **Disputed Territories:** Some territories have declared independence but lack widespread recognition, leading to differing opinions on whether they should be counted as independent countries. Examples include Taiwan, Kosovo, and Somaliland.\n",
      "*   **Dependencies and Territories:** These are under the sovereignty of another country and are not generally considered independent states. Examples include Puerto Rico (US), Greenland (Denmark), and Guam (US).\n",
      "\n",
      "Therefore, while you might see slightly different numbers depending on the source, **195 is the most widely accepted answer for the total number of countries in the world.**\n"
     ]
    }
   ],
   "source": [
    "prompt=\"Can you tell me total countries in the world?\"\n",
    "ai_msg = llm.invoke(prompt)\n",
    "print(ai_msg.content)"
   ]
  },
  {
   "cell_type": "markdown",
   "id": "193e63ca-dbb7-40ff-b6a4-7cb20cf07715",
   "metadata": {
    "jp-MarkdownHeadingCollapsed": true
   },
   "source": [
    "#  DAY-2: langchain"
   ]
  },
  {
   "cell_type": "code",
   "execution_count": null,
   "id": "4465c6fd-507c-438a-8616-e694c1362f3d",
   "metadata": {},
   "outputs": [],
   "source": [
    "import os"
   ]
  },
  {
   "cell_type": "code",
   "execution_count": null,
   "id": "052930e5-a086-46ad-854a-d3f311059613",
   "metadata": {},
   "outputs": [],
   "source": [
    "from langchain_google_genai import ChatGoogleGenerativeAI"
   ]
  },
  {
   "cell_type": "code",
   "execution_count": null,
   "id": "a4f0b5bd-b3da-4aae-ae2f-0073d5ec9503",
   "metadata": {},
   "outputs": [],
   "source": [
    "llm=ChatGoogleGenerativeAI(\n",
    "    model=\"gemini-2.0-flash-001\",\n",
    "    temperature=1,\n",
    "    max_tokens=None,\n",
    "    timeout=None,\n",
    "    max_retries=2,\n",
    "    google_api_key=os.getenv(\"GEMINI_API_KEY\")\n",
    ")"
   ]
  },
  {
   "cell_type": "code",
   "execution_count": 21,
   "id": "2658cb35-d49d-452e-9aa7-663950a7d8d8",
   "metadata": {},
   "outputs": [],
   "source": [
    "prompt=\"Can you tell me capital of india?\""
   ]
  },
  {
   "cell_type": "code",
   "execution_count": 24,
   "id": "35cb49d4-6390-4040-bd68-6583d324c7dc",
   "metadata": {},
   "outputs": [
    {
     "data": {
      "text/plain": [
       "'The capital of India is **New Delhi**.'"
      ]
     },
     "execution_count": 24,
     "metadata": {},
     "output_type": "execute_result"
    }
   ],
   "source": [
    "res=llm.invoke(prompt)\n",
    "res.content"
   ]
  },
  {
   "cell_type": "markdown",
   "id": "9356bf6c-8e88-46b5-9239-4b87bd772058",
   "metadata": {
    "jp-MarkdownHeadingCollapsed": true
   },
   "source": [
    "# Prompt Template"
   ]
  },
  {
   "cell_type": "code",
   "execution_count": 32,
   "id": "114a1b48-deba-4c65-9148-e216a885c5e8",
   "metadata": {},
   "outputs": [],
   "source": [
    "from langchain_core.prompts import PromptTemplate"
   ]
  },
  {
   "cell_type": "code",
   "execution_count": 34,
   "id": "90dece75-cbfc-44ac-9e72-c13fbd98e8bf",
   "metadata": {},
   "outputs": [],
   "source": [
    "prompt_template=PromptTemplate(\n",
    "    input_variable=[\"city\"],\n",
    "    template=\"Can you tell me the capital of {city}?\"\n",
    ")"
   ]
  },
  {
   "cell_type": "code",
   "execution_count": 39,
   "id": "4d4945cf-9e19-426a-a0a7-d7cbf9a4e271",
   "metadata": {},
   "outputs": [],
   "source": [
    "prompt1=prompt_template.format(city=\"China\")"
   ]
  },
  {
   "cell_type": "code",
   "execution_count": 51,
   "id": "63e3e391-c722-474b-9f5d-c1721a56d217",
   "metadata": {},
   "outputs": [],
   "source": [
    "prompt2=prompt_template.format(city=\"India\")"
   ]
  },
  {
   "cell_type": "code",
   "execution_count": 43,
   "id": "0cf7eb14-9321-47b4-aba1-0e09111ab4c2",
   "metadata": {},
   "outputs": [
    {
     "data": {
      "text/plain": [
       "'The capital of China is **Beijing**.'"
      ]
     },
     "execution_count": 43,
     "metadata": {},
     "output_type": "execute_result"
    }
   ],
   "source": [
    "llm.invoke(prompt1).content"
   ]
  },
  {
   "cell_type": "code",
   "execution_count": 46,
   "id": "829fc608-7431-4a2f-b9d7-91c82123b191",
   "metadata": {},
   "outputs": [
    {
     "data": {
      "text/plain": [
       "'The capital of India is **New Delhi**.'"
      ]
     },
     "execution_count": 46,
     "metadata": {},
     "output_type": "execute_result"
    }
   ],
   "source": [
    "llm.invoke(prompt2).content"
   ]
  },
  {
   "cell_type": "markdown",
   "id": "5bc5e9b8-8603-40a5-8da7-949af17b78cb",
   "metadata": {
    "jp-MarkdownHeadingCollapsed": true
   },
   "source": [
    "# Agent\n",
    "- For extracting a real time info i am going to serp api. \n",
    "- Now by using serp api i will call google-search-engine\n",
    "- I will extract the information in real time"
   ]
  },
  {
   "cell_type": "code",
   "execution_count": 61,
   "id": "2749e9a7-7328-451e-b47b-3079848e0b2d",
   "metadata": {},
   "outputs": [
    {
     "name": "stdout",
     "output_type": "stream",
     "text": [
      "Collecting google-search-results\n",
      "  Downloading google_search_results-2.4.2.tar.gz (18 kB)\n",
      "  Preparing metadata (setup.py) ... \u001b[?25ldone\n",
      "\u001b[?25hRequirement already satisfied: requests in /home/suryansh-verma/anaconda3/envs/langchain/lib/python3.13/site-packages (from google-search-results) (2.32.3)\n",
      "Requirement already satisfied: charset-normalizer<4,>=2 in /home/suryansh-verma/anaconda3/envs/langchain/lib/python3.13/site-packages (from requests->google-search-results) (3.4.1)\n",
      "Requirement already satisfied: idna<4,>=2.5 in /home/suryansh-verma/anaconda3/envs/langchain/lib/python3.13/site-packages (from requests->google-search-results) (3.10)\n",
      "Requirement already satisfied: urllib3<3,>=1.21.1 in /home/suryansh-verma/anaconda3/envs/langchain/lib/python3.13/site-packages (from requests->google-search-results) (2.4.0)\n",
      "Requirement already satisfied: certifi>=2017.4.17 in /home/suryansh-verma/anaconda3/envs/langchain/lib/python3.13/site-packages (from requests->google-search-results) (2025.1.31)\n",
      "Building wheels for collected packages: google-search-results\n",
      "  Building wheel for google-search-results (setup.py) ... \u001b[?25ldone\n",
      "\u001b[?25h  Created wheel for google-search-results: filename=google_search_results-2.4.2-py3-none-any.whl size=32063 sha256=1b7196ffaccd52973aaa6d6b4d176f3045265cee83085b422519f1f61b840da7\n",
      "  Stored in directory: /home/suryansh-verma/.cache/pip/wheels/44/af/e2/dde9fab6f1876485b72b35e9cd48da741da67d20e617c3b971\n",
      "Successfully built google-search-results\n",
      "Installing collected packages: google-search-results\n",
      "Successfully installed google-search-results-2.4.2\n",
      "Note: you may need to restart the kernel to use updated packages.\n"
     ]
    }
   ],
   "source": [
    "pip install google-search-results"
   ]
  },
  {
   "cell_type": "code",
   "execution_count": 71,
   "id": "a71fe2fc-f9e5-4607-9595-28826f6d8350",
   "metadata": {},
   "outputs": [
    {
     "name": "stdout",
     "output_type": "stream",
     "text": [
      "Collecting langchain-community\n",
      "  Downloading langchain_community-0.3.21-py3-none-any.whl.metadata (2.4 kB)\n",
      "Requirement already satisfied: langchain-core<1.0.0,>=0.3.51 in /home/suryansh-verma/anaconda3/envs/langchain/lib/python3.13/site-packages (from langchain-community) (0.3.51)\n",
      "Requirement already satisfied: langchain<1.0.0,>=0.3.23 in /home/suryansh-verma/anaconda3/envs/langchain/lib/python3.13/site-packages (from langchain-community) (0.3.23)\n",
      "Requirement already satisfied: SQLAlchemy<3,>=1.4 in /home/suryansh-verma/anaconda3/envs/langchain/lib/python3.13/site-packages (from langchain-community) (2.0.40)\n",
      "Requirement already satisfied: requests<3,>=2 in /home/suryansh-verma/anaconda3/envs/langchain/lib/python3.13/site-packages (from langchain-community) (2.32.3)\n",
      "Requirement already satisfied: PyYAML>=5.3 in /home/suryansh-verma/anaconda3/envs/langchain/lib/python3.13/site-packages (from langchain-community) (6.0.2)\n",
      "Collecting aiohttp<4.0.0,>=3.8.3 (from langchain-community)\n",
      "  Downloading aiohttp-3.11.16-cp313-cp313-manylinux_2_17_x86_64.manylinux2014_x86_64.whl.metadata (7.7 kB)\n",
      "Requirement already satisfied: tenacity!=8.4.0,<10,>=8.1.0 in /home/suryansh-verma/anaconda3/envs/langchain/lib/python3.13/site-packages (from langchain-community) (9.1.2)\n",
      "Collecting dataclasses-json<0.7,>=0.5.7 (from langchain-community)\n",
      "  Downloading dataclasses_json-0.6.7-py3-none-any.whl.metadata (25 kB)\n",
      "Collecting pydantic-settings<3.0.0,>=2.4.0 (from langchain-community)\n",
      "  Downloading pydantic_settings-2.8.1-py3-none-any.whl.metadata (3.5 kB)\n",
      "Requirement already satisfied: langsmith<0.4,>=0.1.125 in /home/suryansh-verma/anaconda3/envs/langchain/lib/python3.13/site-packages (from langchain-community) (0.3.28)\n",
      "Collecting httpx-sse<1.0.0,>=0.4.0 (from langchain-community)\n",
      "  Downloading httpx_sse-0.4.0-py3-none-any.whl.metadata (9.0 kB)\n",
      "Collecting numpy<3,>=1.26.2 (from langchain-community)\n",
      "  Downloading numpy-2.2.4-cp313-cp313-manylinux_2_17_x86_64.manylinux2014_x86_64.whl.metadata (62 kB)\n",
      "Collecting aiohappyeyeballs>=2.3.0 (from aiohttp<4.0.0,>=3.8.3->langchain-community)\n",
      "  Downloading aiohappyeyeballs-2.6.1-py3-none-any.whl.metadata (5.9 kB)\n",
      "Collecting aiosignal>=1.1.2 (from aiohttp<4.0.0,>=3.8.3->langchain-community)\n",
      "  Downloading aiosignal-1.3.2-py2.py3-none-any.whl.metadata (3.8 kB)\n",
      "Requirement already satisfied: attrs>=17.3.0 in /home/suryansh-verma/anaconda3/envs/langchain/lib/python3.13/site-packages (from aiohttp<4.0.0,>=3.8.3->langchain-community) (25.3.0)\n",
      "Collecting frozenlist>=1.1.1 (from aiohttp<4.0.0,>=3.8.3->langchain-community)\n",
      "  Downloading frozenlist-1.5.0-cp313-cp313-manylinux_2_5_x86_64.manylinux1_x86_64.manylinux_2_17_x86_64.manylinux2014_x86_64.whl.metadata (13 kB)\n",
      "Collecting multidict<7.0,>=4.5 (from aiohttp<4.0.0,>=3.8.3->langchain-community)\n",
      "  Downloading multidict-6.4.2-cp313-cp313-manylinux_2_17_x86_64.manylinux2014_x86_64.whl.metadata (5.1 kB)\n",
      "Collecting propcache>=0.2.0 (from aiohttp<4.0.0,>=3.8.3->langchain-community)\n",
      "  Downloading propcache-0.3.1-cp313-cp313-manylinux_2_17_x86_64.manylinux2014_x86_64.whl.metadata (10 kB)\n",
      "Collecting yarl<2.0,>=1.17.0 (from aiohttp<4.0.0,>=3.8.3->langchain-community)\n",
      "  Downloading yarl-1.19.0-cp313-cp313-manylinux_2_17_x86_64.manylinux2014_x86_64.whl.metadata (71 kB)\n",
      "Collecting marshmallow<4.0.0,>=3.18.0 (from dataclasses-json<0.7,>=0.5.7->langchain-community)\n",
      "  Downloading marshmallow-3.26.1-py3-none-any.whl.metadata (7.3 kB)\n",
      "Collecting typing-inspect<1,>=0.4.0 (from dataclasses-json<0.7,>=0.5.7->langchain-community)\n",
      "  Downloading typing_inspect-0.9.0-py3-none-any.whl.metadata (1.5 kB)\n",
      "Requirement already satisfied: langchain-text-splitters<1.0.0,>=0.3.8 in /home/suryansh-verma/anaconda3/envs/langchain/lib/python3.13/site-packages (from langchain<1.0.0,>=0.3.23->langchain-community) (0.3.8)\n",
      "Requirement already satisfied: pydantic<3.0.0,>=2.7.4 in /home/suryansh-verma/anaconda3/envs/langchain/lib/python3.13/site-packages (from langchain<1.0.0,>=0.3.23->langchain-community) (2.11.3)\n",
      "Requirement already satisfied: jsonpatch<2.0,>=1.33 in /home/suryansh-verma/anaconda3/envs/langchain/lib/python3.13/site-packages (from langchain-core<1.0.0,>=0.3.51->langchain-community) (1.33)\n",
      "Requirement already satisfied: packaging<25,>=23.2 in /home/suryansh-verma/anaconda3/envs/langchain/lib/python3.13/site-packages (from langchain-core<1.0.0,>=0.3.51->langchain-community) (24.2)\n",
      "Requirement already satisfied: typing-extensions>=4.7 in /home/suryansh-verma/anaconda3/envs/langchain/lib/python3.13/site-packages (from langchain-core<1.0.0,>=0.3.51->langchain-community) (4.13.2)\n",
      "Requirement already satisfied: httpx<1,>=0.23.0 in /home/suryansh-verma/anaconda3/envs/langchain/lib/python3.13/site-packages (from langsmith<0.4,>=0.1.125->langchain-community) (0.28.1)\n",
      "Requirement already satisfied: orjson<4.0.0,>=3.9.14 in /home/suryansh-verma/anaconda3/envs/langchain/lib/python3.13/site-packages (from langsmith<0.4,>=0.1.125->langchain-community) (3.10.16)\n",
      "Requirement already satisfied: requests-toolbelt<2.0.0,>=1.0.0 in /home/suryansh-verma/anaconda3/envs/langchain/lib/python3.13/site-packages (from langsmith<0.4,>=0.1.125->langchain-community) (1.0.0)\n",
      "Requirement already satisfied: zstandard<0.24.0,>=0.23.0 in /home/suryansh-verma/anaconda3/envs/langchain/lib/python3.13/site-packages (from langsmith<0.4,>=0.1.125->langchain-community) (0.23.0)\n",
      "Collecting python-dotenv>=0.21.0 (from pydantic-settings<3.0.0,>=2.4.0->langchain-community)\n",
      "  Downloading python_dotenv-1.1.0-py3-none-any.whl.metadata (24 kB)\n",
      "Requirement already satisfied: charset-normalizer<4,>=2 in /home/suryansh-verma/anaconda3/envs/langchain/lib/python3.13/site-packages (from requests<3,>=2->langchain-community) (3.4.1)\n",
      "Requirement already satisfied: idna<4,>=2.5 in /home/suryansh-verma/anaconda3/envs/langchain/lib/python3.13/site-packages (from requests<3,>=2->langchain-community) (3.10)\n",
      "Requirement already satisfied: urllib3<3,>=1.21.1 in /home/suryansh-verma/anaconda3/envs/langchain/lib/python3.13/site-packages (from requests<3,>=2->langchain-community) (2.4.0)\n",
      "Requirement already satisfied: certifi>=2017.4.17 in /home/suryansh-verma/anaconda3/envs/langchain/lib/python3.13/site-packages (from requests<3,>=2->langchain-community) (2025.1.31)\n",
      "Requirement already satisfied: greenlet>=1 in /home/suryansh-verma/anaconda3/envs/langchain/lib/python3.13/site-packages (from SQLAlchemy<3,>=1.4->langchain-community) (3.1.1)\n",
      "Requirement already satisfied: anyio in /home/suryansh-verma/anaconda3/envs/langchain/lib/python3.13/site-packages (from httpx<1,>=0.23.0->langsmith<0.4,>=0.1.125->langchain-community) (4.9.0)\n",
      "Requirement already satisfied: httpcore==1.* in /home/suryansh-verma/anaconda3/envs/langchain/lib/python3.13/site-packages (from httpx<1,>=0.23.0->langsmith<0.4,>=0.1.125->langchain-community) (1.0.7)\n",
      "Requirement already satisfied: h11<0.15,>=0.13 in /home/suryansh-verma/anaconda3/envs/langchain/lib/python3.13/site-packages (from httpcore==1.*->httpx<1,>=0.23.0->langsmith<0.4,>=0.1.125->langchain-community) (0.14.0)\n",
      "Requirement already satisfied: jsonpointer>=1.9 in /home/suryansh-verma/anaconda3/envs/langchain/lib/python3.13/site-packages (from jsonpatch<2.0,>=1.33->langchain-core<1.0.0,>=0.3.51->langchain-community) (3.0.0)\n",
      "Requirement already satisfied: annotated-types>=0.6.0 in /home/suryansh-verma/anaconda3/envs/langchain/lib/python3.13/site-packages (from pydantic<3.0.0,>=2.7.4->langchain<1.0.0,>=0.3.23->langchain-community) (0.7.0)\n",
      "Requirement already satisfied: pydantic-core==2.33.1 in /home/suryansh-verma/anaconda3/envs/langchain/lib/python3.13/site-packages (from pydantic<3.0.0,>=2.7.4->langchain<1.0.0,>=0.3.23->langchain-community) (2.33.1)\n",
      "Requirement already satisfied: typing-inspection>=0.4.0 in /home/suryansh-verma/anaconda3/envs/langchain/lib/python3.13/site-packages (from pydantic<3.0.0,>=2.7.4->langchain<1.0.0,>=0.3.23->langchain-community) (0.4.0)\n",
      "Collecting mypy-extensions>=0.3.0 (from typing-inspect<1,>=0.4.0->dataclasses-json<0.7,>=0.5.7->langchain-community)\n",
      "  Downloading mypy_extensions-1.0.0-py3-none-any.whl.metadata (1.1 kB)\n",
      "Requirement already satisfied: sniffio>=1.1 in /home/suryansh-verma/anaconda3/envs/langchain/lib/python3.13/site-packages (from anyio->httpx<1,>=0.23.0->langsmith<0.4,>=0.1.125->langchain-community) (1.3.1)\n",
      "Downloading langchain_community-0.3.21-py3-none-any.whl (2.5 MB)\n",
      "\u001b[2K   \u001b[38;2;114;156;31m━━━━━━━━━━━━━━━━━━━━━━━━━━━━━━━━━━━━━━━━\u001b[0m \u001b[32m2.5/2.5 MB\u001b[0m \u001b[31m2.7 MB/s\u001b[0m eta \u001b[36m0:00:00\u001b[0m MB/s\u001b[0m eta \u001b[36m0:00:01\u001b[0m:01\u001b[0m\n",
      "\u001b[?25hDownloading aiohttp-3.11.16-cp313-cp313-manylinux_2_17_x86_64.manylinux2014_x86_64.whl (1.7 MB)\n",
      "\u001b[2K   \u001b[38;2;114;156;31m━━━━━━━━━━━━━━━━━━━━━━━━━━━━━━━━━━━━━━━━\u001b[0m \u001b[32m1.7/1.7 MB\u001b[0m \u001b[31m2.6 MB/s\u001b[0m eta \u001b[36m0:00:00\u001b[0m MB/s\u001b[0m eta \u001b[36m0:00:01\u001b[0m:01\u001b[0m\n",
      "\u001b[?25hDownloading dataclasses_json-0.6.7-py3-none-any.whl (28 kB)\n",
      "Downloading httpx_sse-0.4.0-py3-none-any.whl (7.8 kB)\n",
      "Downloading numpy-2.2.4-cp313-cp313-manylinux_2_17_x86_64.manylinux2014_x86_64.whl (16.1 MB)\n",
      "\u001b[2K   \u001b[38;2;114;156;31m━━━━━━━━━━━━━━━━━━━━━━━━━━━━━━━━━━━━━━━━\u001b[0m \u001b[32m16.1/16.1 MB\u001b[0m \u001b[31m7.0 MB/s\u001b[0m eta \u001b[36m0:00:00\u001b[0m[31m7.1 MB/s\u001b[0m eta \u001b[36m0:00:01\u001b[0m\n",
      "\u001b[?25hDownloading pydantic_settings-2.8.1-py3-none-any.whl (30 kB)\n",
      "Downloading aiohappyeyeballs-2.6.1-py3-none-any.whl (15 kB)\n",
      "Downloading aiosignal-1.3.2-py2.py3-none-any.whl (7.6 kB)\n",
      "Downloading frozenlist-1.5.0-cp313-cp313-manylinux_2_5_x86_64.manylinux1_x86_64.manylinux_2_17_x86_64.manylinux2014_x86_64.whl (267 kB)\n",
      "Downloading marshmallow-3.26.1-py3-none-any.whl (50 kB)\n",
      "Downloading multidict-6.4.2-cp313-cp313-manylinux_2_17_x86_64.manylinux2014_x86_64.whl (222 kB)\n",
      "Downloading propcache-0.3.1-cp313-cp313-manylinux_2_17_x86_64.manylinux2014_x86_64.whl (228 kB)\n",
      "Downloading python_dotenv-1.1.0-py3-none-any.whl (20 kB)\n",
      "Downloading typing_inspect-0.9.0-py3-none-any.whl (8.8 kB)\n",
      "Downloading yarl-1.19.0-cp313-cp313-manylinux_2_17_x86_64.manylinux2014_x86_64.whl (347 kB)\n",
      "Downloading mypy_extensions-1.0.0-py3-none-any.whl (4.7 kB)\n",
      "Installing collected packages: python-dotenv, propcache, numpy, mypy-extensions, multidict, marshmallow, httpx-sse, frozenlist, aiohappyeyeballs, yarl, typing-inspect, aiosignal, pydantic-settings, dataclasses-json, aiohttp, langchain-community\n",
      "Successfully installed aiohappyeyeballs-2.6.1 aiohttp-3.11.16 aiosignal-1.3.2 dataclasses-json-0.6.7 frozenlist-1.5.0 httpx-sse-0.4.0 langchain-community-0.3.21 marshmallow-3.26.1 multidict-6.4.2 mypy-extensions-1.0.0 numpy-2.2.4 propcache-0.3.1 pydantic-settings-2.8.1 python-dotenv-1.1.0 typing-inspect-0.9.0 yarl-1.19.0\n"
     ]
    }
   ],
   "source": [
    "# pip install langchain\n",
    "!pip install -U langchain-community"
   ]
  },
  {
   "cell_type": "code",
   "execution_count": 91,
   "id": "a6c5172d-3deb-4d38-8879-cd9e0c2a43fa",
   "metadata": {},
   "outputs": [],
   "source": [
    "serp_api_key=\"58b7b1f0461db0c2935f905fb16d90daf7fff0546874f8f58d383fe20b2b5d3a\""
   ]
  },
  {
   "cell_type": "code",
   "execution_count": 98,
   "id": "d1c88091-e91c-4cec-ac97-36a67520de62",
   "metadata": {},
   "outputs": [],
   "source": [
    "from langchain.agents import initialize_agent,load_tools,AgentType"
   ]
  },
  {
   "cell_type": "code",
   "execution_count": 100,
   "id": "b4eb4ed0-97e4-4f96-9996-f43ecb7b997e",
   "metadata": {},
   "outputs": [],
   "source": [
    "tool=load_tools([\"serpapi\"],serpapi_api_key=serp_api_key,llm=llm)"
   ]
  },
  {
   "cell_type": "code",
   "execution_count": 103,
   "id": "677bb944-0356-4687-834b-7e6b875fe475",
   "metadata": {},
   "outputs": [],
   "source": [
    "agent=initialize_agent(tool,llm,agent=AgentType.ZERO_SHOT_REACT_DESCRIPTION,verbose=True)"
   ]
  },
  {
   "cell_type": "code",
   "execution_count": 104,
   "id": "ca093e88-ec30-4630-9c42-87704b11b670",
   "metadata": {},
   "outputs": [
    {
     "name": "stderr",
     "output_type": "stream",
     "text": [
      "/tmp/ipykernel_24006/2301258272.py:1: LangChainDeprecationWarning: The method `Chain.run` was deprecated in langchain 0.1.0 and will be removed in 1.0. Use :meth:`~invoke` instead.\n",
      "  agent.run(\"can you tell me recently who won the world cup in cricket?\")\n"
     ]
    },
    {
     "name": "stdout",
     "output_type": "stream",
     "text": [
      "\n",
      "\n",
      "\u001b[1m> Entering new AgentExecutor chain...\u001b[0m\n",
      "\u001b[32;1m\u001b[1;3mI need to find out who recently won the Cricket World Cup. Since \"recently\" is vague, I'll search for the most recent Cricket World Cup winner.\n",
      "Action: Search\n",
      "Action Input: \"Cricket World Cup winner\"\u001b[0m\n",
      "Observation: \u001b[36;1m\u001b[1;3m[' entity_type: related_questions.', 'Australia are the current champions after winning the 2023 World Cup in India. The subsequent 2027 World Cup will be held jointly in South Africa, Zimbabwe and ...', 'Most recently, the 2023 Cricket World Cup, hosted by India, was won by Australia, who beat India. The current trophy was instituted in 1999. It always remains ...', 'Australia became the new World Cup 2023 winner by defeating India in the final match. In the final match, India played first and scored 240 runs, after that ...', 'In 2007 Australia became the first team to win three consecutive World Cup tournaments. Results of the Cricket World Cup are provided in the ...', 'T20 World Cup winners: India, West Indies and England tied on two titles each - full list.', 'Australia is the most successful World Cup team having won the tournament six times, and runner up another two times.', 'Series results For World Cup ; Prudential World Cup (in England), 1983, 1983, India ; Reliance World Cup (in India/Pakistan), 1987/88, 1987/88, Australia ; Benson ...', '16.11.2023 -ICC Cricket World Cup, 2023 - 2nd Semi-Final. ODIRecent. South Africa SA. 212. (49.4). Australia AUS. 215/7. (47.2). Australia beat South Africa ...']\u001b[0m\n",
      "Thought:\u001b[32;1m\u001b[1;3mThe search results clearly state that Australia won the 2023 Cricket World Cup.\n",
      "Final Answer: Australia won the 2023 Cricket World Cup.\u001b[0m\n",
      "\n",
      "\u001b[1m> Finished chain.\u001b[0m\n"
     ]
    },
    {
     "data": {
      "text/plain": [
       "'Australia won the 2023 Cricket World Cup.'"
      ]
     },
     "execution_count": 104,
     "metadata": {},
     "output_type": "execute_result"
    }
   ],
   "source": [
    "agent.run(\"can you tell me recently who won the world cup in cricket?\")"
   ]
  },
  {
   "cell_type": "code",
   "execution_count": 105,
   "id": "301277a2-bed2-45e7-b0fe-4336b4b0b862",
   "metadata": {},
   "outputs": [
    {
     "name": "stdout",
     "output_type": "stream",
     "text": [
      "Collecting wikipedia\n",
      "  Downloading wikipedia-1.4.0.tar.gz (27 kB)\n",
      "  Preparing metadata (setup.py) ... \u001b[?25ldone\n",
      "\u001b[?25hRequirement already satisfied: beautifulsoup4 in /home/suryansh-verma/anaconda3/envs/langchain/lib/python3.13/site-packages (from wikipedia) (4.13.3)\n",
      "Requirement already satisfied: requests<3.0.0,>=2.0.0 in /home/suryansh-verma/anaconda3/envs/langchain/lib/python3.13/site-packages (from wikipedia) (2.32.3)\n",
      "Requirement already satisfied: charset-normalizer<4,>=2 in /home/suryansh-verma/anaconda3/envs/langchain/lib/python3.13/site-packages (from requests<3.0.0,>=2.0.0->wikipedia) (3.4.1)\n",
      "Requirement already satisfied: idna<4,>=2.5 in /home/suryansh-verma/anaconda3/envs/langchain/lib/python3.13/site-packages (from requests<3.0.0,>=2.0.0->wikipedia) (3.10)\n",
      "Requirement already satisfied: urllib3<3,>=1.21.1 in /home/suryansh-verma/anaconda3/envs/langchain/lib/python3.13/site-packages (from requests<3.0.0,>=2.0.0->wikipedia) (2.4.0)\n",
      "Requirement already satisfied: certifi>=2017.4.17 in /home/suryansh-verma/anaconda3/envs/langchain/lib/python3.13/site-packages (from requests<3.0.0,>=2.0.0->wikipedia) (2025.1.31)\n",
      "Requirement already satisfied: soupsieve>1.2 in /home/suryansh-verma/anaconda3/envs/langchain/lib/python3.13/site-packages (from beautifulsoup4->wikipedia) (2.6)\n",
      "Requirement already satisfied: typing-extensions>=4.0.0 in /home/suryansh-verma/anaconda3/envs/langchain/lib/python3.13/site-packages (from beautifulsoup4->wikipedia) (4.13.2)\n",
      "Building wheels for collected packages: wikipedia\n",
      "  Building wheel for wikipedia (setup.py) ... \u001b[?25ldone\n",
      "\u001b[?25h  Created wheel for wikipedia: filename=wikipedia-1.4.0-py3-none-any.whl size=11728 sha256=7e510a812dd0f372b7cd28be3c3c6b5f023efbd5bcd56938d015e547aeaec84b\n",
      "  Stored in directory: /home/suryansh-verma/.cache/pip/wheels/79/1d/c8/b64e19423cc5a2a339450ea5d145e7c8eb3d4aa2b150cde33b\n",
      "Successfully built wikipedia\n",
      "Installing collected packages: wikipedia\n",
      "Successfully installed wikipedia-1.4.0\n"
     ]
    }
   ],
   "source": [
    "!pip install wikipedia"
   ]
  },
  {
   "cell_type": "code",
   "execution_count": 110,
   "id": "bcada2a6-ce7c-43a6-8d74-1b17e2eef896",
   "metadata": {},
   "outputs": [],
   "source": [
    "tool=load_tools([\"wikipedia\"],llm=llm)"
   ]
  },
  {
   "cell_type": "code",
   "execution_count": 111,
   "id": "fba8d05f-fae1-4d34-87fa-5d78178f8ca0",
   "metadata": {},
   "outputs": [],
   "source": [
    "agent=initialize_agent(tool,llm,agent=AgentType.ZERO_SHOT_REACT_DESCRIPTION,verbose=True)"
   ]
  },
  {
   "cell_type": "code",
   "execution_count": 112,
   "id": "08b92c2b-50cb-4584-93f2-34150d5058fb",
   "metadata": {},
   "outputs": [
    {
     "name": "stdout",
     "output_type": "stream",
     "text": [
      "\n",
      "\n",
      "\u001b[1m> Entering new AgentExecutor chain...\u001b[0m\n",
      "\u001b[32;1m\u001b[1;3mI need to clarify which \"recent\" world cup the user is asking about. I'll start by searching for \"World Cup\" on Wikipedia to get a list of the most recent ones.\n",
      "Action: wikipedia\n",
      "Action Input: World Cup\u001b[0m\n",
      "Observation: \u001b[36;1m\u001b[1;3mPage: World cup\n",
      "Summary: A world cup is a global sporting competition in which the participant entities – usually international teams or individuals representing their countries – compete for the title of world champion. The event most associated with the name is the FIFA World Cup for association football, which dates back to 1930. Since then there have been a number of sporting events labeled \"world cup\", such as the ICC Men's Cricket World Cup, the Rugby World Cup, Rugby League World Cup, and the Hockey World Cup.\n",
      "A world cup is generally, though not always, considered the premier competition in its sport, with the victor attaining the highest honour in that sport and being able to lay claim to the title of their sport's best. However, in some sports the Olympic title carries at least as much prestige, while other sports such as diving and artistic gymnastics differentiate between their premier competitions, such as World Championships and Olympic Games, and their \"World Cup\", which is organized as a smaller scale but high-level showcase event with small elite fields.\n",
      "\n",
      "\n",
      "\n",
      "Page: FIFA World Cup\n",
      "Summary: The FIFA World Cup, often called the World Cup, is an international association football competition among the senior men's national teams of the members of the Fédération Internationale de Football Association (FIFA), the sport's global governing body. The tournament has been held every four years since the inaugural tournament in 1930, with the exception of 1942 and 1946 due to the Second World War. The reigning champions are Argentina, who won their third title at the 2022 World Cup by defeating France.\n",
      "The contest starts with the qualification phase, which takes place over the preceding three years to determine which teams qualify for the tournament phase. In the tournament phase, 32 teams compete for the title at venues within the host nation(s) over the course of about a month. The host nation(s) automatically qualify for the group stage of the tournament. The competition is scheduled to expand to 48 teams, starting with the 2026 World Cup.\n",
      "As of the 2022 FIFA World Cup, 22 final tournaments have been held since the event's inception in 1930, and a total of 80 national teams have competed. The trophy has been won by eight national teams. With five wins, Brazil  is the only team to have played in every tournament. The other World Cup winners are Germany and Italy, with four titles each; Argentina, with three titles; France and inaugural winner Uruguay, each with two titles; and England and Spain, with one title each.\n",
      "The World Cup is globally regarded as the most prestigious association football competition, as well as the most widely viewed and followed sporting event in the world. The viewership of the 2018 World Cup was estimated to be 3.57 billion, close to half of the global population, while the engagement with the 2022 World Cup was estimated to be 5 billion, with about 1.5 billion people watching the final match.\n",
      "Seventeen countries have hosted the World Cup, most recently Qatar, who hosted the 2022 event. The 2026 tournament will be jointly hosted by Canada, Mexico, and the United States, which will give Mexico the distinction of being the first country to host games in three World Cups.\n",
      "\n",
      "Page: List of FIFA World Cup finals\n",
      "Summary: The FIFA World Cup is an international association football competition contested by the senior men's national teams of the Fédération Internationale de Football Association (FIFA), the sport's global governing body. The championship has been awarded every four years since 1930, except in 1942 and 1946, when it was not held because of World War II.\n",
      "The World Cup final is the last match of the competition, played by the only two teams remaining in contention, and the result determines which country is declared the world champion. It is a one-off match decided in regulation time. In case of a draw, extra time is used. If scores are then still level, a penalty shoot-out determines the win\u001b[0m\n",
      "Thought:\u001b[32;1m\u001b[1;3mBased on the Wikipedia results, the most recent FIFA World Cup was in 2022, won by Argentina.\n",
      "Action: wikipedia\n",
      "Action Input: 2022 FIFA World Cup\u001b[0m\n",
      "Observation: \u001b[36;1m\u001b[1;3mPage: 2022 FIFA World Cup\n",
      "Summary: The 2022 FIFA World Cup was the 22nd FIFA World Cup, the quadrennial world championship for national football teams organized by FIFA. It took place in Qatar from 20 November to 18 December 2022, after the country was awarded the hosting rights in 2010. It was the first World Cup to be held in the Middle East and Persian Gulf countries, and the second in an Asian country after the 2002 tournament in South Korea and Japan.\n",
      "This tournament was the last with 32 participating teams, with the number of teams being increased to 48 for the 2026 World Cup. To avoid the extremes of Qatar's hot and humid climate in summers, the event was held in November and December, becoming the first one to take place outside the traditional months of May, June, and July. It was held over a reduced time frame of 29 days with 64 matches played in eight venues across five cities. Qatar entered the event—their first World Cup—automatically as the host's national team, alongside 31 teams determined by the qualification process.\n",
      "Argentina were crowned the champions after winning the final against the title holder France 4–2 on penalties following a 3–3 draw after extra time. It was Argentina's third title and their first since 1986, as well as being the first nation from outside of Europe to win the tournament since 2002. French player Kylian Mbappé became the first player to score a hat-trick in a World Cup final since Geoff Hurst in the 1966 final and won the Golden Boot as he scored the most goals (eight) during the tournament. Mbappé also became the first player to score in two consecutive finals since Vavá of Brazil did the same in 1958 and 1962.\n",
      "Argentine captain Lionel Messi was voted the tournament's best player, winning his second Golden Ball. The tournament has been considered exceptionally poetic as the capstone of his career, with the win fulfilling for some commentators a previously unmet criterion to be regarded as the greatest player of all time. Teammates Emiliano Martínez and Enzo Fernández won the Golden Glove, awarded to the tournament's best goalkeeper; and the Young Player Award, awarded to the tournament's best young player, respectively. With 172 goals, the tournament set a record for the highest number of goals scored in the 32-team format, with every participating team scoring at least one goal.\n",
      "The choice to host the World Cup in Qatar attracted significant criticism, with concerns raised over the country's treatment of migrant workers, women, and members of the LGBTQ+ community, as well as Qatar's climate, lack of a strong football culture, scheduling changes, and allegations of bribery for hosting rights and wider FIFA corruption.\n",
      "\n",
      "Page: 2022 FIFA World Cup squads\n",
      "Summary: The 2022 FIFA World Cup was an international football tournament held in Qatar from 20 November to 18 December 2022. The 32 national teams involved in the tournament were required to register a squad of up to 26 players, including three goalkeepers. Only players in these squads were eligible to take part in the tournament.\n",
      "A provisional release list of between 35 and 55 players per national team was submitted to FIFA by 21 October 2022, one month prior to the opening match of the tournament. The release lists were not made public by FIFA. From the preliminary squad, the final list of at most 26 and at least 23 players per national team were submitted to FIFA by 14 November, 19:00 AST (UTC+3), six days prior to the opening match of the tournament. FIFA published the final lists with squad numbers on their website on 15 November. The final matchday at club level for players named in the final squads was 13 November 2022, while clubs had to release their players by the following day. In the event that a player on the submitted squad list suffered from an injury or illness prior to his team's first match of the tournament, that player could be replaced at any time up to 24 hours before their first match. The team doctor and the \u001b[0m\n",
      "Thought:\u001b[32;1m\u001b[1;3mThe 2022 FIFA World Cup took place in Qatar from November 20 to December 18, 2022. It was the first World Cup held in the Middle East and the last with 32 participating teams. Argentina won the final against France in a penalty shootout after a 3-3 draw, securing their third title. Kylian Mbappé of France won the Golden Boot with eight goals. Lionel Messi was voted the tournament's best player. The tournament was notable for being held in November/December to avoid the Qatari summer heat and faced criticism regarding Qatar's human rights record and other controversies.\n",
      "Final Answer: The 2022 FIFA World Cup took place in Qatar from November 20 to December 18, 2022. It was the first World Cup held in the Middle East and the last with 32 participating teams. Argentina won the final against France in a penalty shootout after a 3-3 draw, securing their third title. Kylian Mbappé of France won the Golden Boot with eight goals. Lionel Messi was voted the tournament's best player. The tournament was notable for being held in November/December to avoid the Qatari summer heat and faced criticism regarding Qatar's human rights record and other controversies.\u001b[0m\n",
      "\n",
      "\u001b[1m> Finished chain.\u001b[0m\n"
     ]
    },
    {
     "data": {
      "text/plain": [
       "\"The 2022 FIFA World Cup took place in Qatar from November 20 to December 18, 2022. It was the first World Cup held in the Middle East and the last with 32 participating teams. Argentina won the final against France in a penalty shootout after a 3-3 draw, securing their third title. Kylian Mbappé of France won the Golden Boot with eight goals. Lionel Messi was voted the tournament's best player. The tournament was notable for being held in November/December to avoid the Qatari summer heat and faced criticism regarding Qatar's human rights record and other controversies.\""
      ]
     },
     "execution_count": 112,
     "metadata": {},
     "output_type": "execute_result"
    }
   ],
   "source": [
    "agent.run(\"can you tell me more about the recent world cup?\")"
   ]
  },
  {
   "cell_type": "code",
   "execution_count": 113,
   "id": "8904c9ec-bba7-4491-a39a-73e1dbb93628",
   "metadata": {},
   "outputs": [
    {
     "name": "stdout",
     "output_type": "stream",
     "text": [
      "\n",
      "\n",
      "\u001b[1m> Entering new AgentExecutor chain...\u001b[0m\n",
      "\u001b[32;1m\u001b[1;3mI need to find the current GDP of India. Since \"current\" is relative and changes, I'll start by searching Wikipedia for \"India GDP\" to get the latest available data.\n",
      "Action: wikipedia\n",
      "Action Input: India GDP\u001b[0m\n",
      "Observation: \u001b[36;1m\u001b[1;3mPage: List of Indian states and union territories by GDP\n",
      "Summary: These are lists of Indian states and union territories by their nominal gross state domestic product (GSDP). GSDP is the sum of all value added by industries within each state or union territory and serves as a counterpart to the national gross domestic product (GDP). As of 2011, the Government accounted for about 21% of the GDP followed by agriculture with 21% and corporate sector at 12%. The remaining 48% is sourced from small proprietorship and partnership companies, unorganized sector and households.\n",
      "\n",
      "Page: Economy of India\n",
      "Summary: The economy of India is a developing mixed economy with a notable public sector in strategic sectors. It is the world's fifth-largest economy by nominal GDP and the third-largest by purchasing power parity (PPP); on a per capita income basis, India ranked 140th by GDP (nominal) and 119th by GDP (PPP). From independence in 1947 until 1991, successive governments followed the Soviet model and promoted protectionist economic policies, with extensive Sovietization, state intervention, demand-side economics, natural resources, bureaucrat-driven enterprises and economic regulation. This is characterised as dirigism, in the form of the Licence Raj. The end of the Cold War and an acute balance of payments crisis in 1991 led to the adoption of a broad economic liberalisation in India and indicative planning. India has about 1,900 public sector companies, with the Indian state having complete control and ownership of railways and highways. The Indian government has major control over banking, insurance, farming, fertilizers and chemicals, airports,  essential utilities. The state also exerts substantial control over digitalization,  telecommunication, supercomputing, space, port and shipping industries, which were effectively nationalised in the mid-1950s but has seen the emergence of key corporate players.\n",
      "Nearly 70% of India's GDP is driven by domestic consumption; country remains the world's fourth-largest consumer market. Aside private consumption, India's GDP is also fueled by government spending, investments, and exports. In 2022, India was the world's 10th-largest importer and the 8th-largest exporter. India has been a member of the World Trade Organization since 1 January 1995. It ranks 63rd on the ease of doing business index and 40th on the Global Competitiveness Index. India has one of the world's highest number of billionaires along with extreme income inequality. Economists and social scientists often consider India a welfare state. India is officially declared a socialist state as per the constitution. India's overall social welfare spending stood at 8.6% of GDP in 2021-22, which is much lower than the average for OECD nations. With 586 million workers, the Indian labour force is the world's second-largest. Despite having one of the longest working hours, India has one of the lowest workforce productivity levels in the world. Economists say that due to structural economic problems, India is experiencing jobless economic growth.\n",
      "During the Great Recession, the economy faced a mild slowdown. India endorsed Keynesian policy and initiated stimulus measures (both fiscal and monetary) to boost growth and generate demand. In subsequent years, economic growth revived.\n",
      "In 2021–22, the foreign direct investment (FDI) in India was $82 billion. The leading sectors for FDI inflows were the Finance, Banking, Insurance and R&D. India has free trade agreements with several nations and blocs, including ASEAN, SAFTA, Mercosur, South Korea, Japan, Australia, the United Arab Emirates, and several others which are in effect or under negotiating stage. In recent years, independent economists and financial institutions have accused the government of manipulating various economic data, especially GDP growth rate.\n",
      "The service sector makes up more than 50% of GDP and remains the fastest growing sector, while the industrial sector and the agricultural \u001b[0m\n",
      "Thought:\u001b[32;1m\u001b[1;3mI have found some information regarding India's GDP. I should refine my search to find the actual nominal GDP value.\n",
      "Action: wikipedia\n",
      "Action Input: India nominal GDP\u001b[0m\n",
      "Observation: \u001b[36;1m\u001b[1;3mPage: List of Indian states and union territories by GDP\n",
      "Summary: These are lists of Indian states and union territories by their nominal gross state domestic product (GSDP). GSDP is the sum of all value added by industries within each state or union territory and serves as a counterpart to the national gross domestic product (GDP). As of 2011, the Government accounted for about 21% of the GDP followed by agriculture with 21% and corporate sector at 12%. The remaining 48% is sourced from small proprietorship and partnership companies, unorganized sector and households.\n",
      "\n",
      "Page: List of countries by past and projected GDP (nominal)\n",
      "Summary: This is an alphabetical list of countries by past and projected gross domestic product (nominal) as ranked by the IMF. Figures are based on official exchange rates, not on the purchasing power parity (PPP) methodology. Values are given in millions of United States dollars (USD) and have not been adjusted for inflation. These figures have been taken from the International Monetary Fund's World Economic Outlook (WEO) Database (October 2024 edition) and/or other sources.\n",
      "For older GDP trends, see List of regions by past GDP (PPP).\n",
      "\n",
      "Page: List of countries by GDP (nominal)\n",
      "Summary: Gross domestic product (GDP) is the market value of all final goods and services from a nation in a given year. Countries are sorted by nominal GDP estimates from financial and statistical institutions, which are calculated at market or government official exchange rates. Nominal GDP does not take into account differences in the cost of living in different countries, and the results can vary greatly from one year to another based on fluctuations in the exchange rates of the country's currency. Such fluctuations may change a country's ranking from one year to the next, even though they often make little or no difference in the standard of living of its population.\n",
      "Comparisons of national wealth are also frequently made based on purchasing power parity (PPP), to adjust for differences in the cost of living in different countries. Other metrics, nominal GDP per capita and a corresponding GDP (PPP) per capita are used for comparing national standard of living. On the whole, PPP per capita figures are less spread than nominal GDP per capita figures.\n",
      "The rankings of national economies over time have changed considerably; the economy of the United States surpassed the British Empire's output around 1916, which in turn had surpassed the economy of the Qing dynasty in aggregate output decades earlier. Since China's transition to a socialist market economy through controlled privatisation and deregulation, the country has seen its ranking increase from ninth in 1978, to second in 2010; China's economic growth accelerated during this period and its share of global nominal GDP surged from 2% in 1980 to 18% in 2021.\n",
      "The first list includes estimates compiled by the International Monetary Fund's World Economic Outlook, the second list shows the World Bank's data, and the third list includes data compiled by the United Nations Statistics Division. The IMF's definitive data for the past year and estimates for the current year are published twice a year in April and October. Non-sovereign entities (the world, continents, and some dependent territories) and states with limited international recognition (such as Kosovo and Taiwan) are included in the list where they appear in the sources.\u001b[0m\n",
      "Thought:\u001b[32;1m\u001b[1;3mI see a page titled \"List of countries by GDP (nominal)\" which should contain the information I need. I will look for the latest available data for India there.\n",
      "Action: wikipedia\n",
      "Action Input: List of countries by GDP (nominal)\u001b[0m\n",
      "Observation: \u001b[36;1m\u001b[1;3mPage: List of countries by GDP (nominal)\n",
      "Summary: Gross domestic product (GDP) is the market value of all final goods and services from a nation in a given year. Countries are sorted by nominal GDP estimates from financial and statistical institutions, which are calculated at market or government official exchange rates. Nominal GDP does not take into account differences in the cost of living in different countries, and the results can vary greatly from one year to another based on fluctuations in the exchange rates of the country's currency. Such fluctuations may change a country's ranking from one year to the next, even though they often make little or no difference in the standard of living of its population.\n",
      "Comparisons of national wealth are also frequently made based on purchasing power parity (PPP), to adjust for differences in the cost of living in different countries. Other metrics, nominal GDP per capita and a corresponding GDP (PPP) per capita are used for comparing national standard of living. On the whole, PPP per capita figures are less spread than nominal GDP per capita figures.\n",
      "The rankings of national economies over time have changed considerably; the economy of the United States surpassed the British Empire's output around 1916, which in turn had surpassed the economy of the Qing dynasty in aggregate output decades earlier. Since China's transition to a socialist market economy through controlled privatisation and deregulation, the country has seen its ranking increase from ninth in 1978, to second in 2010; China's economic growth accelerated during this period and its share of global nominal GDP surged from 2% in 1980 to 18% in 2021.\n",
      "The first list includes estimates compiled by the International Monetary Fund's World Economic Outlook, the second list shows the World Bank's data, and the third list includes data compiled by the United Nations Statistics Division. The IMF's definitive data for the past year and estimates for the current year are published twice a year in April and October. Non-sovereign entities (the world, continents, and some dependent territories) and states with limited international recognition (such as Kosovo and Taiwan) are included in the list where they appear in the sources.\n",
      "\n",
      "Page: List of countries by GDP (nominal) per capita\n",
      "Summary: This is a list of countries by nominal GDP per capita.\n",
      "GDP per capita is often considered an indicator of a country's standard of living; however, this is inaccurate because GDP per capita is not a measure of personal income. Measures of personal income include average wage, real income, median income, disposable income and GNI per capita.\n",
      "Comparisons of GDP per capita are also frequently made on the basis of purchasing power parity (PPP), to adjust for differences in the cost of living in different countries, see List of countries by GDP (PPP) per capita. PPP largely removes the exchange rate problem but not others; it does not reflect the value of economic output in international trade, and it also requires more estimation than GDP per capita. On the whole, PPP per capita figures are more narrowly spread than nominal GDP per capita figures.\n",
      "The figures presented here do not take into account differences in the cost of living in different countries, and the results vary greatly from one year to another based on fluctuations in the exchange rates of the country's currency. Such fluctuations change a country's ranking from one year to the next, even though they often make little or no difference to the standard of living of its population.\n",
      "For change of GDP per capita over time as a measure of economic growth, see real GDP growth and real GDP per capita growth.\n",
      "Non-sovereign entities (the world, continents, and some dependent territories) and states with limited international recognition are included in the list in cases in which they appear in the sources. These economies are not ranked in the charts here (except Kosovo and Taiwan), but are listed in \u001b[0m\n",
      "Thought:\u001b[32;1m\u001b[1;3mI need to access the content of the page \"List of countries by GDP (nominal)\" to get the latest available GDP data for India. I can't directly access the tables within the Wikipedia page using the current tool. Therefore, I will search for \"India GDP World Bank\" and \"India GDP IMF\" separately to try and find the most recent estimates from these sources.\n",
      "Action: wikipedia\n",
      "Action Input: India GDP World Bank\u001b[0m\n",
      "Observation: \u001b[36;1m\u001b[1;3mPage: List of countries by largest historical GDP\n",
      "Summary: This list of countries by largest historical GDP shows how the membership and rankings of the world's ten largest economies as measured by their gross domestic product has changed. While the United States has consistently had the world's largest economy for some time, in the last fifty years the world has seen both rises and falls in relative terms of the economies of other countries.\n",
      "\n",
      "\n",
      "\n",
      "Page: Economy of India\n",
      "Summary: The economy of India is a developing mixed economy with a notable public sector in strategic sectors. It is the world's fifth-largest economy by nominal GDP and the third-largest by purchasing power parity (PPP); on a per capita income basis, India ranked 140th by GDP (nominal) and 119th by GDP (PPP). From independence in 1947 until 1991, successive governments followed the Soviet model and promoted protectionist economic policies, with extensive Sovietization, state intervention, demand-side economics, natural resources, bureaucrat-driven enterprises and economic regulation. This is characterised as dirigism, in the form of the Licence Raj. The end of the Cold War and an acute balance of payments crisis in 1991 led to the adoption of a broad economic liberalisation in India and indicative planning. India has about 1,900 public sector companies, with the Indian state having complete control and ownership of railways and highways. The Indian government has major control over banking, insurance, farming, fertilizers and chemicals, airports,  essential utilities. The state also exerts substantial control over digitalization,  telecommunication, supercomputing, space, port and shipping industries, which were effectively nationalised in the mid-1950s but has seen the emergence of key corporate players.\n",
      "Nearly 70% of India's GDP is driven by domestic consumption; country remains the world's fourth-largest consumer market. Aside private consumption, India's GDP is also fueled by government spending, investments, and exports. In 2022, India was the world's 10th-largest importer and the 8th-largest exporter. India has been a member of the World Trade Organization since 1 January 1995. It ranks 63rd on the ease of doing business index and 40th on the Global Competitiveness Index. India has one of the world's highest number of billionaires along with extreme income inequality. Economists and social scientists often consider India a welfare state. India is officially declared a socialist state as per the constitution. India's overall social welfare spending stood at 8.6% of GDP in 2021-22, which is much lower than the average for OECD nations. With 586 million workers, the Indian labour force is the world's second-largest. Despite having one of the longest working hours, India has one of the lowest workforce productivity levels in the world. Economists say that due to structural economic problems, India is experiencing jobless economic growth.\n",
      "During the Great Recession, the economy faced a mild slowdown. India endorsed Keynesian policy and initiated stimulus measures (both fiscal and monetary) to boost growth and generate demand. In subsequent years, economic growth revived.\n",
      "In 2021–22, the foreign direct investment (FDI) in India was $82 billion. The leading sectors for FDI inflows were the Finance, Banking, Insurance and R&D. India has free trade agreements with several nations and blocs, including ASEAN, SAFTA, Mercosur, South Korea, Japan, Australia, the United Arab Emirates, and several others which are in effect or under negotiating stage. In recent years, independent economists and financial institutions have accused the government of manipulating various economic data, especially GDP growth rate.\n",
      "The service sector makes up more than 50% of GDP and remains the fastest growing sector, while the industrial sector and the agricultural sector employs a majority of the labor force. The Bombay Stock Exchange and National Stock Exchange are some of the world's lar\u001b[0m\n",
      "Thought:\u001b[32;1m\u001b[1;3mThe \"Economy of India\" page says that India is the world's fifth-largest economy by nominal GDP. Unfortunately, the exact GDP figure is not provided in the summaries found. Since I cannot browse the content of the \"List of countries by GDP (nominal)\" page and the summaries don't provide the explicit number, I'm unable to provide an exact current GDP figure. I can only state that it is the fifth-largest economy in the world.\n",
      "Final Answer: India is the world's fifth-largest economy by nominal GDP.\u001b[0m\n",
      "\n",
      "\u001b[1m> Finished chain.\u001b[0m\n"
     ]
    },
    {
     "data": {
      "text/plain": [
       "\"India is the world's fifth-largest economy by nominal GDP.\""
      ]
     },
     "execution_count": 113,
     "metadata": {},
     "output_type": "execute_result"
    }
   ],
   "source": [
    "agent.run(\"can you tell me about current gdp of india?\")"
   ]
  },
  {
   "cell_type": "markdown",
   "id": "f7b655c1-2f02-4b54-8421-7732f2915b14",
   "metadata": {},
   "source": [
    "# Chain"
   ]
  },
  {
   "cell_type": "code",
   "execution_count": null,
   "id": "7d07ab03-2003-4faf-9ed3-6c525de96dd2",
   "metadata": {},
   "outputs": [],
   "source": []
  }
 ],
 "metadata": {
  "kernelspec": {
   "display_name": "Python 3 (ipykernel)",
   "language": "python",
   "name": "python3"
  },
  "language_info": {
   "codemirror_mode": {
    "name": "ipython",
    "version": 3
   },
   "file_extension": ".py",
   "mimetype": "text/x-python",
   "name": "python",
   "nbconvert_exporter": "python",
   "pygments_lexer": "ipython3",
   "version": "3.13.2"
  }
 },
 "nbformat": 4,
 "nbformat_minor": 5
}
